{
 "cells": [
  {
   "cell_type": "code",
   "execution_count": 4,
   "metadata": {
    "collapsed": true,
    "pycharm": {
     "is_executing": false
    }
   },
   "outputs": [],
   "source": [
    "import os\n",
    "\n",
    "import numpy as np\n",
    "import tensorflow as tf\n",
    "import trimesh\n",
    "import tensorboard\n",
    "from common.extract_model import ExtractModel\n",
    "from common.freeze_wrapper import write_pb\n",
    "from feature_detect.src.config import *\n",
    "from feature_detect.src.feat_data_keras import Data_Gen\n",
    "\n",
    "from tensorboard.plugins.mesh import summary as mesh_summary\n",
    "from feature_detect.src.plc import build_plc\n",
    "tf.compat.v1.disable_eager_execution()\n",
    "\n",
    "npz_path='F:/ProjectData/mesh_feature/test/test_npz/front'\n",
    "log_dir = 'F:/ProjectData/mesh_feature/test/log_dir'\n",
    "batch_size = 1\n",
    "\n",
    "plc,input_names=build_plc(BLOCK_NUM,need_batch=True)\n",
    "model=ExtractModel(CHANNELS,coarse_level=C_LEVEL,fc_dim=4)\n",
    "load_time_dir = '20190823-1511/rutine'  # where to restore the model\n",
    "ckpt_file = 'ckpt-80'\n",
    "output = model(plc,need_sqeeze=True)\n",
    "output=tf.identity(output,'output_node')\n",
    "ckpt_full_dir = os.path.join(CKPT_PATH, load_time_dir)\n",
    "ckpt_full_path = os.path.join(ckpt_full_dir, ckpt_file)\n",
    "checkpoint = tf.train.Checkpoint(model=model)\n",
    "status = checkpoint.restore(ckpt_full_path)\n",
    "\n",
    "\n",
    "need_freeze=True\n",
    "need_infer=True\n",
    "need_summary=True\n",
    "\n",
    "version=1\n",
    "model_path=os.path.join('../freeze_output',str(version))\n",
    "\n",
    "with tf.compat.v1.Session() as sess:\n",
    "    status.initialize_or_restore(sess)\n",
    "    # for node in tf.train.list_variables(tf.train.latest_checkpoint(ckpt_full_dir)):\n",
    "    #     print(node)\n",
    "    if need_freeze:\n",
    "        if os.path.exists(model_path):\n",
    "            import shutil\n",
    "            shutil.rmtree(model_path)\n",
    "        else:\n",
    "            os.mkdir(model_path)\n",
    "\n",
    "        def build_input_info(plc_dict):\n",
    "            tensor_infos={'vertice':plc['vertice']}\n",
    "            adj_infos={'adj_%d' % i:adj_plc for i,adj_plc in enumerate(plc['adjs'])}\n",
    "            perm_infos={'perm_%d' % i:perm_plc for i,perm_plc in enumerate(plc['perms'])}\n",
    "            tensor_infos.update(adj_infos)\n",
    "            tensor_infos.update(perm_infos)\n",
    "            return tensor_infos\n",
    "        # ordinary model\n",
    "        tf.compat.v1.saved_model.simple_save(sess, model_path, build_input_info(plc), {'output_node': output})\n",
    "        write_pb(input_saved_model_dir=model_path,\n",
    "                 output_graph_filename=\"../output_graph.pb\")\n",
    "    elif need_infer:\n",
    "        X, Adjs, Perms=process_data(data_path, 'case_test.txt')\n",
    "        for x,adjs,perms in zip(X, Adjs, Perms):\n",
    "            feed_dict=build_feed_dict(plc,x,adjs,perms)\n",
    "            result=sess.run(output,feed_dict=feed_dict)\n",
    "            print(result)\n"
   ]
  },
  {
   "cell_type": "code",
   "execution_count": 1,
   "outputs": [],
   "source": [
    "# Camera and scene configuration.\n",
    "config_dict = {\n",
    "    'material': {\n",
    "      'cls': 'PointsMaterial',\n",
    "      'size': 1,\n",
    "        # 'color':0x000fff\n",
    "    }\n",
    "}\n",
    "\n",
    "\n",
    "# Read all sample PLY files."
   ],
   "metadata": {
    "collapsed": false,
    "pycharm": {
     "name": "#%%\n",
     "is_executing": false
    }
   }
  },
  {
   "cell_type": "code",
   "execution_count": 6,
   "outputs": [],
   "source": [
    "data_gen = Data_Gen(npz_path)\n",
    "data,  npz_name,epoch_end = data_gen.load_pkg()\n",
    "\n",
    "# vertices=data['x'].astype(np.float32)\n",
    "# features=data['y'].astype(np.float32)\n",
    "# \n",
    "# # Add batch dimension, so our data will be of shape BxNxC.\n",
    "# points_v = vertices\n",
    "# points_f=features[:,1:]\n",
    "\n",
    "vertices=data['x'][1].astype(np.float32)\n",
    "features=data['y'][1].astype(np.float32)\n",
    "\n",
    "# Add batch dimension, so our data will be of shape BxNxC.\n",
    "points_v = np.expand_dims(vertices, 0)\n",
    "points_f=np.expand_dims(features[:,1:],0)\n",
    "points=np.concatenate([points_v,points_f],axis=1)\n",
    "\n",
    "\n",
    "colors_v = np.ones_like(points_v)*[0,0,255]\n",
    "colors_f = np.ones_like(points_f)*[0,255,0]\n",
    "colors=np.concatenate([colors_v,colors_f],axis=1)\n"
   ],
   "metadata": {
    "collapsed": false,
    "pycharm": {
     "name": "#%%\n",
     "is_executing": false
    }
   }
  },
  {
   "cell_type": "code",
   "execution_count": 7,
   "outputs": [],
   "source": [
    "points_tensor = tf.compat.v1.placeholder(tf.float32, points.shape)\n",
    "colors_tensor = tf.compat.v1.placeholder(tf.int32, colors.shape)\n",
    "\n",
    "summary = mesh_summary.op(\n",
    "    'v_color_tensor', \n",
    "    vertices=points_tensor,\n",
    "    colors=colors_tensor, \n",
    "    config_dict=config_dict\n",
    ")\n",
    "\n",
    "# Create summary writer and session.\n",
    "writer = tf.compat.v1.summary.FileWriter(log_dir)\n",
    "sess = tf.compat.v1.Session()\n",
    "\n",
    "\n"
   ],
   "metadata": {
    "collapsed": false,
    "pycharm": {
     "name": "#%%\n",
     "is_executing": false
    }
   }
  },
  {
   "cell_type": "code",
   "execution_count": 8,
   "outputs": [],
   "source": [
    "summaries = sess.run([summary], feed_dict={\n",
    "    points_tensor: points,\n",
    "    colors_tensor: colors,\n",
    "})\n",
    "# Save summaries.\n",
    "for summary in summaries:\n",
    "  writer.add_summary(summary)\n",
    "\n"
   ],
   "metadata": {
    "collapsed": false,
    "pycharm": {
     "name": "#%%\n",
     "is_executing": false
    }
   }
  },
  {
   "cell_type": "code",
   "execution_count": 8,
   "outputs": [],
   "source": [],
   "metadata": {
    "collapsed": false,
    "pycharm": {
     "name": "#%%\n",
     "is_executing": false
    }
   }
  }
 ],
 "metadata": {
  "kernelspec": {
   "display_name": "Python 3",
   "language": "python",
   "name": "python3"
  },
  "language_info": {
   "codemirror_mode": {
    "name": "ipython",
    "version": 2
   },
   "file_extension": ".py",
   "mimetype": "text/x-python",
   "name": "python",
   "nbconvert_exporter": "python",
   "pygments_lexer": "ipython2",
   "version": "2.7.6"
  },
  "pycharm": {
   "stem_cell": {
    "cell_type": "raw",
    "source": [],
    "metadata": {
     "collapsed": false
    }
   }
  }
 },
 "nbformat": 4,
 "nbformat_minor": 0
}