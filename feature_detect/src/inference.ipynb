{
 "cells": [
  {
   "cell_type": "code",
   "execution_count": 12,
   "outputs": [],
   "source": [
    "import os\n",
    "\n",
    "import numpy as np\n",
    "import tensorflow as tf\n",
    "from common.extract_model import ExtractModel\n",
    "from common.freeze_wrapper import write_pb\n",
    "from feature_detect.src.config import *\n",
    "from feature_detect.src.feat_data_keras import Data_Gen, Rotate_feed\n",
    "\n",
    "from tensorboard.plugins.mesh import summary as mesh_summary\n",
    "from common.plc import build_plc, build_feed_dict\n",
    "\n",
    "tf.compat.v1.disable_eager_execution()\n",
    "\n",
    "npz_path = 'F:/ProjectData/mesh_feature/test/test_npz/front'\n",
    "log_dir = 'F:/ProjectData/mesh_feature/test/log_dir'\n",
    "batch_size = 1\n",
    "batch_dim=False\n",
    "plc, input_names = build_plc(BLOCK_NUM)\n",
    "model = ExtractModel(CHANNELS, coarse_level=C_LEVEL, fc_dim=4)\n",
    "output = model(plc)"
   ],
   "metadata": {
    "collapsed": false,
    "pycharm": {
     "name": "#%%\n",
     "is_executing": false
    }
   }
  },
  {
   "cell_type": "code",
   "execution_count": 13,
   "outputs": [
    {
     "name": "stderr",
     "text": [
      "W1101 17:36:28.903074 16264 util.py:144] Unresolved object in checkpoint: (root).optimizer\n",
      "W1101 17:36:28.903074 16264 util.py:144] Unresolved object in checkpoint: (root).optimizer.iter\n",
      "W1101 17:36:28.904072 16264 util.py:144] Unresolved object in checkpoint: (root).optimizer.beta_1\n",
      "W1101 17:36:28.904072 16264 util.py:144] Unresolved object in checkpoint: (root).optimizer.beta_2\n",
      "W1101 17:36:28.905069 16264 util.py:144] Unresolved object in checkpoint: (root).optimizer.decay\n",
      "W1101 17:36:28.905069 16264 util.py:144] Unresolved object in checkpoint: (root).optimizer.learning_rate\n",
      "W1101 17:36:28.905069 16264 util.py:144] Unresolved object in checkpoint: (root).optimizer's state 'm' for (root).model.FC_output.kernel\n",
      "W1101 17:36:28.906066 16264 util.py:144] Unresolved object in checkpoint: (root).optimizer's state 'm' for (root).model.FC_output.bias\n",
      "W1101 17:36:28.906066 16264 util.py:144] Unresolved object in checkpoint: (root).optimizer's state 'm' for (root).model.Blocks.0.conv1.W\n",
      "W1101 17:36:28.906066 16264 util.py:144] Unresolved object in checkpoint: (root).optimizer's state 'm' for (root).model.Blocks.0.conv1.b\n",
      "W1101 17:36:28.906066 16264 util.py:144] Unresolved object in checkpoint: (root).optimizer's state 'm' for (root).model.Blocks.0.conv1.u\n",
      "W1101 17:36:28.907063 16264 util.py:144] Unresolved object in checkpoint: (root).optimizer's state 'm' for (root).model.Blocks.0.conv1.c\n",
      "W1101 17:36:28.908061 16264 util.py:144] Unresolved object in checkpoint: (root).optimizer's state 'm' for (root).model.Blocks.0.conv2.W\n",
      "W1101 17:36:28.908061 16264 util.py:144] Unresolved object in checkpoint: (root).optimizer's state 'm' for (root).model.Blocks.0.conv2.b\n",
      "W1101 17:36:28.909059 16264 util.py:144] Unresolved object in checkpoint: (root).optimizer's state 'm' for (root).model.Blocks.0.conv2.u\n",
      "W1101 17:36:28.910056 16264 util.py:144] Unresolved object in checkpoint: (root).optimizer's state 'm' for (root).model.Blocks.0.conv2.c\n",
      "W1101 17:36:28.910056 16264 util.py:144] Unresolved object in checkpoint: (root).optimizer's state 'm' for (root).model.Blocks.1.conv1.W\n",
      "W1101 17:36:28.911055 16264 util.py:144] Unresolved object in checkpoint: (root).optimizer's state 'm' for (root).model.Blocks.1.conv1.b\n",
      "W1101 17:36:28.911055 16264 util.py:144] Unresolved object in checkpoint: (root).optimizer's state 'm' for (root).model.Blocks.1.conv1.u\n",
      "W1101 17:36:28.912051 16264 util.py:144] Unresolved object in checkpoint: (root).optimizer's state 'm' for (root).model.Blocks.1.conv1.c\n",
      "W1101 17:36:28.912051 16264 util.py:144] Unresolved object in checkpoint: (root).optimizer's state 'm' for (root).model.Blocks.1.conv2.W\n",
      "W1101 17:36:28.912051 16264 util.py:144] Unresolved object in checkpoint: (root).optimizer's state 'm' for (root).model.Blocks.1.conv2.b\n",
      "W1101 17:36:28.913055 16264 util.py:144] Unresolved object in checkpoint: (root).optimizer's state 'm' for (root).model.Blocks.1.conv2.u\n",
      "W1101 17:36:28.914046 16264 util.py:144] Unresolved object in checkpoint: (root).optimizer's state 'm' for (root).model.Blocks.1.conv2.c\n",
      "W1101 17:36:28.915043 16264 util.py:144] Unresolved object in checkpoint: (root).optimizer's state 'm' for (root).model.Blocks.2.conv1.W\n",
      "W1101 17:36:28.915043 16264 util.py:144] Unresolved object in checkpoint: (root).optimizer's state 'm' for (root).model.Blocks.2.conv1.b\n",
      "W1101 17:36:28.916042 16264 util.py:144] Unresolved object in checkpoint: (root).optimizer's state 'm' for (root).model.Blocks.2.conv1.u\n",
      "W1101 17:36:28.916042 16264 util.py:144] Unresolved object in checkpoint: (root).optimizer's state 'm' for (root).model.Blocks.2.conv1.c\n",
      "W1101 17:36:28.918036 16264 util.py:144] Unresolved object in checkpoint: (root).optimizer's state 'm' for (root).model.Blocks.2.conv2.W\n",
      "W1101 17:36:28.919032 16264 util.py:144] Unresolved object in checkpoint: (root).optimizer's state 'm' for (root).model.Blocks.2.conv2.b\n",
      "W1101 17:36:28.919032 16264 util.py:144] Unresolved object in checkpoint: (root).optimizer's state 'm' for (root).model.Blocks.2.conv2.u\n",
      "W1101 17:36:28.920029 16264 util.py:144] Unresolved object in checkpoint: (root).optimizer's state 'm' for (root).model.Blocks.2.conv2.c\n",
      "W1101 17:36:28.921027 16264 util.py:144] Unresolved object in checkpoint: (root).optimizer's state 'v' for (root).model.FC_output.kernel\n",
      "W1101 17:36:28.921027 16264 util.py:144] Unresolved object in checkpoint: (root).optimizer's state 'v' for (root).model.FC_output.bias\n",
      "W1101 17:36:28.924025 16264 util.py:144] Unresolved object in checkpoint: (root).optimizer's state 'v' for (root).model.Blocks.0.conv1.W\n",
      "W1101 17:36:28.926015 16264 util.py:144] Unresolved object in checkpoint: (root).optimizer's state 'v' for (root).model.Blocks.0.conv1.b\n",
      "W1101 17:36:28.927012 16264 util.py:144] Unresolved object in checkpoint: (root).optimizer's state 'v' for (root).model.Blocks.0.conv1.u\n",
      "W1101 17:36:28.930066 16264 util.py:144] Unresolved object in checkpoint: (root).optimizer's state 'v' for (root).model.Blocks.0.conv1.c\n",
      "W1101 17:36:28.931001 16264 util.py:144] Unresolved object in checkpoint: (root).optimizer's state 'v' for (root).model.Blocks.0.conv2.W\n",
      "W1101 17:36:28.933993 16264 util.py:144] Unresolved object in checkpoint: (root).optimizer's state 'v' for (root).model.Blocks.0.conv2.b\n",
      "W1101 17:36:28.934990 16264 util.py:144] Unresolved object in checkpoint: (root).optimizer's state 'v' for (root).model.Blocks.0.conv2.u\n",
      "W1101 17:36:28.934990 16264 util.py:144] Unresolved object in checkpoint: (root).optimizer's state 'v' for (root).model.Blocks.0.conv2.c\n",
      "W1101 17:36:28.935987 16264 util.py:144] Unresolved object in checkpoint: (root).optimizer's state 'v' for (root).model.Blocks.1.conv1.W\n",
      "W1101 17:36:28.936990 16264 util.py:144] Unresolved object in checkpoint: (root).optimizer's state 'v' for (root).model.Blocks.1.conv1.b\n",
      "W1101 17:36:28.937982 16264 util.py:144] Unresolved object in checkpoint: (root).optimizer's state 'v' for (root).model.Blocks.1.conv1.u\n",
      "W1101 17:36:28.937982 16264 util.py:144] Unresolved object in checkpoint: (root).optimizer's state 'v' for (root).model.Blocks.1.conv1.c\n",
      "W1101 17:36:28.938981 16264 util.py:144] Unresolved object in checkpoint: (root).optimizer's state 'v' for (root).model.Blocks.1.conv2.W\n",
      "W1101 17:36:28.939976 16264 util.py:144] Unresolved object in checkpoint: (root).optimizer's state 'v' for (root).model.Blocks.1.conv2.b\n",
      "W1101 17:36:28.939976 16264 util.py:144] Unresolved object in checkpoint: (root).optimizer's state 'v' for (root).model.Blocks.1.conv2.u\n",
      "W1101 17:36:28.940973 16264 util.py:144] Unresolved object in checkpoint: (root).optimizer's state 'v' for (root).model.Blocks.1.conv2.c\n",
      "W1101 17:36:28.941971 16264 util.py:144] Unresolved object in checkpoint: (root).optimizer's state 'v' for (root).model.Blocks.2.conv1.W\n",
      "W1101 17:36:28.941971 16264 util.py:144] Unresolved object in checkpoint: (root).optimizer's state 'v' for (root).model.Blocks.2.conv1.b\n",
      "W1101 17:36:28.942969 16264 util.py:144] Unresolved object in checkpoint: (root).optimizer's state 'v' for (root).model.Blocks.2.conv1.u\n",
      "W1101 17:36:28.943967 16264 util.py:144] Unresolved object in checkpoint: (root).optimizer's state 'v' for (root).model.Blocks.2.conv1.c\n",
      "W1101 17:36:28.944964 16264 util.py:144] Unresolved object in checkpoint: (root).optimizer's state 'v' for (root).model.Blocks.2.conv2.W\n",
      "W1101 17:36:28.946962 16264 util.py:144] Unresolved object in checkpoint: (root).optimizer's state 'v' for (root).model.Blocks.2.conv2.b\n",
      "W1101 17:36:28.947955 16264 util.py:144] Unresolved object in checkpoint: (root).optimizer's state 'v' for (root).model.Blocks.2.conv2.u\n",
      "W1101 17:36:28.948955 16264 util.py:144] Unresolved object in checkpoint: (root).optimizer's state 'v' for (root).model.Blocks.2.conv2.c\n",
      "W1101 17:36:28.949949 16264 util.py:152] A checkpoint was restored (e.g. tf.train.Checkpoint.restore or tf.keras.Model.load_weights) but not all checkpointed values were used. See above for specific issues. Use expect_partial() on the load status object, e.g. tf.train.Checkpoint.restore(...).expect_partial(), to silence these warnings, or use assert_consumed() to make the check explicit. See https://www.tensorflow.org/alpha/guide/checkpoints#loading_mechanics for details.\n"
     ],
     "output_type": "stream"
    }
   ],
   "source": [
    "CKPT_PATH='F:/tf_projects/3D/FeaStNet-master/feature_detect/ckpt'\n",
    "load_time_dir = '20191031-1754/rutine'  # where to restore the model\n",
    "ckpt_file = 'ckpt-413'\n",
    "output = tf.identity(output, 'output_node')\n",
    "ckpt_full_dir = os.path.join(CKPT_PATH, load_time_dir)\n",
    "ckpt_full_path = os.path.join(ckpt_full_dir, ckpt_file)\n",
    "checkpoint = tf.train.Checkpoint(model=model)\n",
    "ckpt_full_path='F:/tf_projects/3D/FeaStNet-master/feature_detect/ckpt/20191031-1754/rutine/ckpt-413'\n",
    "status = checkpoint.restore(ckpt_full_path)\n",
    "\n",
    "\n",
    "model_path = 'F:/tf_projects/3D/FeaStNet-master/feature_detect/freeze_output/1'\n",
    "\n",
    "config = tf.compat.v1.ConfigProto()\n",
    "config.gpu_options.allow_growth = True\n",
    "sess=tf.compat.v1.Session(config=config)\n",
    "status.initialize_or_restore(sess)\n",
    "# for node in tf.train.list_variables(tf.train.latest_checkpoint(ckpt_full_dir)):\n",
    "#     print(node)"
   ],
   "metadata": {
    "collapsed": false,
    "pycharm": {
     "name": "#%%\n",
     "is_executing": false
    }
   }
  },
  {
   "cell_type": "code",
   "execution_count": 14,
   "outputs": [
    {
     "traceback": [
      "\u001b[1;31m---------------------------------------------------------------------------\u001b[0m",
      "\u001b[1;31mValueError\u001b[0m                                Traceback (most recent call last)",
      "\u001b[1;32m<ipython-input-14-656e909027d5>\u001b[0m in \u001b[0;36m<module>\u001b[1;34m\u001b[0m\n\u001b[0;32m     17\u001b[0m \u001b[1;33m\u001b[0m\u001b[0m\n\u001b[0;32m     18\u001b[0m \u001b[1;31m# ordinary model\u001b[0m\u001b[1;33m\u001b[0m\u001b[1;33m\u001b[0m\u001b[1;33m\u001b[0m\u001b[0m\n\u001b[1;32m---> 19\u001b[1;33m \u001b[0mtf\u001b[0m\u001b[1;33m.\u001b[0m\u001b[0mcompat\u001b[0m\u001b[1;33m.\u001b[0m\u001b[0mv1\u001b[0m\u001b[1;33m.\u001b[0m\u001b[0msaved_model\u001b[0m\u001b[1;33m.\u001b[0m\u001b[0msimple_save\u001b[0m\u001b[1;33m(\u001b[0m\u001b[0msess\u001b[0m\u001b[1;33m,\u001b[0m \u001b[0mmodel_path\u001b[0m\u001b[1;33m,\u001b[0m \u001b[0mbuild_input_info\u001b[0m\u001b[1;33m(\u001b[0m\u001b[0mplc\u001b[0m\u001b[1;33m)\u001b[0m\u001b[1;33m,\u001b[0m \u001b[1;33m{\u001b[0m\u001b[1;34m'output_node'\u001b[0m\u001b[1;33m:\u001b[0m \u001b[0moutput\u001b[0m\u001b[1;33m}\u001b[0m\u001b[1;33m)\u001b[0m\u001b[1;33m\u001b[0m\u001b[1;33m\u001b[0m\u001b[0m\n\u001b[0m\u001b[0;32m     20\u001b[0m write_pb(input_saved_model_dir=model_path,\n\u001b[0;32m     21\u001b[0m          output_graph_filename=\"../output_graph.pb\")\n",
      "\u001b[1;32md:\\anaconda3\\envs\\tf2\\lib\\site-packages\\tensorflow_core\\python\\util\\deprecation.py\u001b[0m in \u001b[0;36mnew_func\u001b[1;34m(*args, **kwargs)\u001b[0m\n\u001b[0;32m    322\u001b[0m               \u001b[1;34m'in a future version'\u001b[0m \u001b[1;32mif\u001b[0m \u001b[0mdate\u001b[0m \u001b[1;32mis\u001b[0m \u001b[1;32mNone\u001b[0m \u001b[1;32melse\u001b[0m \u001b[1;33m(\u001b[0m\u001b[1;34m'after %s'\u001b[0m \u001b[1;33m%\u001b[0m \u001b[0mdate\u001b[0m\u001b[1;33m)\u001b[0m\u001b[1;33m,\u001b[0m\u001b[1;33m\u001b[0m\u001b[1;33m\u001b[0m\u001b[0m\n\u001b[0;32m    323\u001b[0m               instructions)\n\u001b[1;32m--> 324\u001b[1;33m       \u001b[1;32mreturn\u001b[0m \u001b[0mfunc\u001b[0m\u001b[1;33m(\u001b[0m\u001b[1;33m*\u001b[0m\u001b[0margs\u001b[0m\u001b[1;33m,\u001b[0m \u001b[1;33m**\u001b[0m\u001b[0mkwargs\u001b[0m\u001b[1;33m)\u001b[0m\u001b[1;33m\u001b[0m\u001b[1;33m\u001b[0m\u001b[0m\n\u001b[0m\u001b[0;32m    325\u001b[0m     return tf_decorator.make_decorator(\n\u001b[0;32m    326\u001b[0m         \u001b[0mfunc\u001b[0m\u001b[1;33m,\u001b[0m \u001b[0mnew_func\u001b[0m\u001b[1;33m,\u001b[0m \u001b[1;34m'deprecated'\u001b[0m\u001b[1;33m,\u001b[0m\u001b[1;33m\u001b[0m\u001b[1;33m\u001b[0m\u001b[0m\n",
      "\u001b[1;32md:\\anaconda3\\envs\\tf2\\lib\\site-packages\\tensorflow_core\\python\\saved_model\\simple_save.py\u001b[0m in \u001b[0;36msimple_save\u001b[1;34m(session, export_dir, inputs, outputs, legacy_init_op)\u001b[0m\n\u001b[0;32m     88\u001b[0m       \u001b[0massets_collection\u001b[0m\u001b[1;33m=\u001b[0m\u001b[0mops\u001b[0m\u001b[1;33m.\u001b[0m\u001b[0mget_collection\u001b[0m\u001b[1;33m(\u001b[0m\u001b[0mops\u001b[0m\u001b[1;33m.\u001b[0m\u001b[0mGraphKeys\u001b[0m\u001b[1;33m.\u001b[0m\u001b[0mASSET_FILEPATHS\u001b[0m\u001b[1;33m)\u001b[0m\u001b[1;33m,\u001b[0m\u001b[1;33m\u001b[0m\u001b[1;33m\u001b[0m\u001b[0m\n\u001b[0;32m     89\u001b[0m       \u001b[0mmain_op\u001b[0m\u001b[1;33m=\u001b[0m\u001b[0mlegacy_init_op\u001b[0m\u001b[1;33m,\u001b[0m\u001b[1;33m\u001b[0m\u001b[1;33m\u001b[0m\u001b[0m\n\u001b[1;32m---> 90\u001b[1;33m       clear_devices=True)\n\u001b[0m\u001b[0;32m     91\u001b[0m   \u001b[0mb\u001b[0m\u001b[1;33m.\u001b[0m\u001b[0msave\u001b[0m\u001b[1;33m(\u001b[0m\u001b[1;33m)\u001b[0m\u001b[1;33m\u001b[0m\u001b[1;33m\u001b[0m\u001b[0m\n",
      "\u001b[1;32md:\\anaconda3\\envs\\tf2\\lib\\site-packages\\tensorflow_core\\python\\util\\deprecation.py\u001b[0m in \u001b[0;36mnew_func\u001b[1;34m(*args, **kwargs)\u001b[0m\n\u001b[0;32m    505\u001b[0m                 \u001b[1;34m'in a future version'\u001b[0m \u001b[1;32mif\u001b[0m \u001b[0mdate\u001b[0m \u001b[1;32mis\u001b[0m \u001b[1;32mNone\u001b[0m \u001b[1;32melse\u001b[0m \u001b[1;33m(\u001b[0m\u001b[1;34m'after %s'\u001b[0m \u001b[1;33m%\u001b[0m \u001b[0mdate\u001b[0m\u001b[1;33m)\u001b[0m\u001b[1;33m,\u001b[0m\u001b[1;33m\u001b[0m\u001b[1;33m\u001b[0m\u001b[0m\n\u001b[0;32m    506\u001b[0m                 instructions)\n\u001b[1;32m--> 507\u001b[1;33m       \u001b[1;32mreturn\u001b[0m \u001b[0mfunc\u001b[0m\u001b[1;33m(\u001b[0m\u001b[1;33m*\u001b[0m\u001b[0margs\u001b[0m\u001b[1;33m,\u001b[0m \u001b[1;33m**\u001b[0m\u001b[0mkwargs\u001b[0m\u001b[1;33m)\u001b[0m\u001b[1;33m\u001b[0m\u001b[1;33m\u001b[0m\u001b[0m\n\u001b[0m\u001b[0;32m    508\u001b[0m \u001b[1;33m\u001b[0m\u001b[0m\n\u001b[0;32m    509\u001b[0m     doc = _add_deprecated_arg_notice_to_docstring(\n",
      "\u001b[1;32md:\\anaconda3\\envs\\tf2\\lib\\site-packages\\tensorflow_core\\python\\saved_model\\builder_impl.py\u001b[0m in \u001b[0;36madd_meta_graph_and_variables\u001b[1;34m(self, sess, tags, signature_def_map, assets_collection, legacy_init_op, clear_devices, main_op, strip_default_attrs, saver)\u001b[0m\n\u001b[0;32m    584\u001b[0m     \u001b[0mvariables_path\u001b[0m \u001b[1;33m=\u001b[0m \u001b[0msaved_model_utils\u001b[0m\u001b[1;33m.\u001b[0m\u001b[0mget_variables_path\u001b[0m\u001b[1;33m(\u001b[0m\u001b[0mself\u001b[0m\u001b[1;33m.\u001b[0m\u001b[0m_export_dir\u001b[0m\u001b[1;33m)\u001b[0m\u001b[1;33m\u001b[0m\u001b[1;33m\u001b[0m\u001b[0m\n\u001b[0;32m    585\u001b[0m \u001b[1;33m\u001b[0m\u001b[0m\n\u001b[1;32m--> 586\u001b[1;33m     \u001b[0msaver\u001b[0m \u001b[1;33m=\u001b[0m \u001b[0mself\u001b[0m\u001b[1;33m.\u001b[0m\u001b[0m_maybe_create_saver\u001b[0m\u001b[1;33m(\u001b[0m\u001b[0msaver\u001b[0m\u001b[1;33m)\u001b[0m\u001b[1;33m\u001b[0m\u001b[1;33m\u001b[0m\u001b[0m\n\u001b[0m\u001b[0;32m    587\u001b[0m \u001b[1;33m\u001b[0m\u001b[0m\n\u001b[0;32m    588\u001b[0m     \u001b[1;31m# Save the variables. Also, disable writing the checkpoint state proto. The\u001b[0m\u001b[1;33m\u001b[0m\u001b[1;33m\u001b[0m\u001b[1;33m\u001b[0m\u001b[0m\n",
      "\u001b[1;32md:\\anaconda3\\envs\\tf2\\lib\\site-packages\\tensorflow_core\\python\\saved_model\\builder_impl.py\u001b[0m in \u001b[0;36m_maybe_create_saver\u001b[1;34m(self, saver)\u001b[0m\n\u001b[0;32m    222\u001b[0m           \u001b[0msharded\u001b[0m\u001b[1;33m=\u001b[0m\u001b[1;32mTrue\u001b[0m\u001b[1;33m,\u001b[0m\u001b[1;33m\u001b[0m\u001b[1;33m\u001b[0m\u001b[0m\n\u001b[0;32m    223\u001b[0m           \u001b[0mwrite_version\u001b[0m\u001b[1;33m=\u001b[0m\u001b[0msaver_pb2\u001b[0m\u001b[1;33m.\u001b[0m\u001b[0mSaverDef\u001b[0m\u001b[1;33m.\u001b[0m\u001b[0mV2\u001b[0m\u001b[1;33m,\u001b[0m\u001b[1;33m\u001b[0m\u001b[1;33m\u001b[0m\u001b[0m\n\u001b[1;32m--> 224\u001b[1;33m           allow_empty=True)\n\u001b[0m\u001b[0;32m    225\u001b[0m     \u001b[1;32mreturn\u001b[0m \u001b[0msaver\u001b[0m\u001b[1;33m\u001b[0m\u001b[1;33m\u001b[0m\u001b[0m\n\u001b[0;32m    226\u001b[0m \u001b[1;33m\u001b[0m\u001b[0m\n",
      "\u001b[1;32md:\\anaconda3\\envs\\tf2\\lib\\site-packages\\tensorflow_core\\python\\training\\saver.py\u001b[0m in \u001b[0;36m__init__\u001b[1;34m(self, var_list, reshape, sharded, max_to_keep, keep_checkpoint_every_n_hours, name, restore_sequentially, saver_def, builder, defer_build, allow_empty, write_version, pad_step_number, save_relative_paths, filename)\u001b[0m\n\u001b[0;32m    826\u001b[0m           time.time() + self._keep_checkpoint_every_n_hours * 3600)\n\u001b[0;32m    827\u001b[0m     \u001b[1;32melif\u001b[0m \u001b[1;32mnot\u001b[0m \u001b[0mdefer_build\u001b[0m\u001b[1;33m:\u001b[0m\u001b[1;33m\u001b[0m\u001b[1;33m\u001b[0m\u001b[0m\n\u001b[1;32m--> 828\u001b[1;33m       \u001b[0mself\u001b[0m\u001b[1;33m.\u001b[0m\u001b[0mbuild\u001b[0m\u001b[1;33m(\u001b[0m\u001b[1;33m)\u001b[0m\u001b[1;33m\u001b[0m\u001b[1;33m\u001b[0m\u001b[0m\n\u001b[0m\u001b[0;32m    829\u001b[0m     \u001b[1;32mif\u001b[0m \u001b[0mself\u001b[0m\u001b[1;33m.\u001b[0m\u001b[0msaver_def\u001b[0m\u001b[1;33m:\u001b[0m\u001b[1;33m\u001b[0m\u001b[1;33m\u001b[0m\u001b[0m\n\u001b[0;32m    830\u001b[0m       \u001b[0mself\u001b[0m\u001b[1;33m.\u001b[0m\u001b[0m_check_saver_def\u001b[0m\u001b[1;33m(\u001b[0m\u001b[1;33m)\u001b[0m\u001b[1;33m\u001b[0m\u001b[1;33m\u001b[0m\u001b[0m\n",
      "\u001b[1;32md:\\anaconda3\\envs\\tf2\\lib\\site-packages\\tensorflow_core\\python\\training\\saver.py\u001b[0m in \u001b[0;36mbuild\u001b[1;34m(self)\u001b[0m\n\u001b[0;32m    838\u001b[0m     \u001b[1;32mif\u001b[0m \u001b[0mcontext\u001b[0m\u001b[1;33m.\u001b[0m\u001b[0mexecuting_eagerly\u001b[0m\u001b[1;33m(\u001b[0m\u001b[1;33m)\u001b[0m\u001b[1;33m:\u001b[0m\u001b[1;33m\u001b[0m\u001b[1;33m\u001b[0m\u001b[0m\n\u001b[0;32m    839\u001b[0m       \u001b[1;32mraise\u001b[0m \u001b[0mRuntimeError\u001b[0m\u001b[1;33m(\u001b[0m\u001b[1;34m\"Use save/restore instead of build in eager mode.\"\u001b[0m\u001b[1;33m)\u001b[0m\u001b[1;33m\u001b[0m\u001b[1;33m\u001b[0m\u001b[0m\n\u001b[1;32m--> 840\u001b[1;33m     \u001b[0mself\u001b[0m\u001b[1;33m.\u001b[0m\u001b[0m_build\u001b[0m\u001b[1;33m(\u001b[0m\u001b[0mself\u001b[0m\u001b[1;33m.\u001b[0m\u001b[0m_filename\u001b[0m\u001b[1;33m,\u001b[0m \u001b[0mbuild_save\u001b[0m\u001b[1;33m=\u001b[0m\u001b[1;32mTrue\u001b[0m\u001b[1;33m,\u001b[0m \u001b[0mbuild_restore\u001b[0m\u001b[1;33m=\u001b[0m\u001b[1;32mTrue\u001b[0m\u001b[1;33m)\u001b[0m\u001b[1;33m\u001b[0m\u001b[1;33m\u001b[0m\u001b[0m\n\u001b[0m\u001b[0;32m    841\u001b[0m \u001b[1;33m\u001b[0m\u001b[0m\n\u001b[0;32m    842\u001b[0m   \u001b[1;32mdef\u001b[0m \u001b[0m_build_eager\u001b[0m\u001b[1;33m(\u001b[0m\u001b[0mself\u001b[0m\u001b[1;33m,\u001b[0m \u001b[0mcheckpoint_path\u001b[0m\u001b[1;33m,\u001b[0m \u001b[0mbuild_save\u001b[0m\u001b[1;33m,\u001b[0m \u001b[0mbuild_restore\u001b[0m\u001b[1;33m)\u001b[0m\u001b[1;33m:\u001b[0m\u001b[1;33m\u001b[0m\u001b[1;33m\u001b[0m\u001b[0m\n",
      "\u001b[1;32md:\\anaconda3\\envs\\tf2\\lib\\site-packages\\tensorflow_core\\python\\training\\saver.py\u001b[0m in \u001b[0;36m_build\u001b[1;34m(self, checkpoint_path, build_save, build_restore)\u001b[0m\n\u001b[0;32m    876\u001b[0m           \u001b[0mfilename\u001b[0m\u001b[1;33m=\u001b[0m\u001b[0mcheckpoint_path\u001b[0m\u001b[1;33m,\u001b[0m\u001b[1;33m\u001b[0m\u001b[1;33m\u001b[0m\u001b[0m\n\u001b[0;32m    877\u001b[0m           \u001b[0mbuild_save\u001b[0m\u001b[1;33m=\u001b[0m\u001b[0mbuild_save\u001b[0m\u001b[1;33m,\u001b[0m\u001b[1;33m\u001b[0m\u001b[1;33m\u001b[0m\u001b[0m\n\u001b[1;32m--> 878\u001b[1;33m           build_restore=build_restore)\n\u001b[0m\u001b[0;32m    879\u001b[0m     \u001b[1;32melif\u001b[0m \u001b[0mself\u001b[0m\u001b[1;33m.\u001b[0m\u001b[0msaver_def\u001b[0m \u001b[1;32mand\u001b[0m \u001b[0mself\u001b[0m\u001b[1;33m.\u001b[0m\u001b[0m_name\u001b[0m\u001b[1;33m:\u001b[0m\u001b[1;33m\u001b[0m\u001b[1;33m\u001b[0m\u001b[0m\n\u001b[0;32m    880\u001b[0m       \u001b[1;31m# Since self._name is used as a name_scope by builder(), we are\u001b[0m\u001b[1;33m\u001b[0m\u001b[1;33m\u001b[0m\u001b[1;33m\u001b[0m\u001b[0m\n",
      "\u001b[1;32md:\\anaconda3\\envs\\tf2\\lib\\site-packages\\tensorflow_core\\python\\training\\saver.py\u001b[0m in \u001b[0;36m_build_internal\u001b[1;34m(self, names_to_saveables, reshape, sharded, max_to_keep, keep_checkpoint_every_n_hours, name, restore_sequentially, filename, build_save, build_restore)\u001b[0m\n\u001b[0;32m    480\u001b[0m \u001b[1;33m\u001b[0m\u001b[0m\n\u001b[0;32m    481\u001b[0m     saveables = saveable_object_util.validate_and_slice_inputs(\n\u001b[1;32m--> 482\u001b[1;33m         names_to_saveables)\n\u001b[0m\u001b[0;32m    483\u001b[0m     \u001b[1;32mif\u001b[0m \u001b[0mmax_to_keep\u001b[0m \u001b[1;32mis\u001b[0m \u001b[1;32mNone\u001b[0m\u001b[1;33m:\u001b[0m\u001b[1;33m\u001b[0m\u001b[1;33m\u001b[0m\u001b[0m\n\u001b[0;32m    484\u001b[0m       \u001b[0mmax_to_keep\u001b[0m \u001b[1;33m=\u001b[0m \u001b[1;36m0\u001b[0m\u001b[1;33m\u001b[0m\u001b[1;33m\u001b[0m\u001b[0m\n",
      "\u001b[1;32md:\\anaconda3\\envs\\tf2\\lib\\site-packages\\tensorflow_core\\python\\training\\saving\\saveable_object_util.py\u001b[0m in \u001b[0;36mvalidate_and_slice_inputs\u001b[1;34m(names_to_saveables)\u001b[0m\n\u001b[0;32m    334\u001b[0m   \"\"\"\n\u001b[0;32m    335\u001b[0m   \u001b[1;32mif\u001b[0m \u001b[1;32mnot\u001b[0m \u001b[0misinstance\u001b[0m\u001b[1;33m(\u001b[0m\u001b[0mnames_to_saveables\u001b[0m\u001b[1;33m,\u001b[0m \u001b[0mdict\u001b[0m\u001b[1;33m)\u001b[0m\u001b[1;33m:\u001b[0m\u001b[1;33m\u001b[0m\u001b[1;33m\u001b[0m\u001b[0m\n\u001b[1;32m--> 336\u001b[1;33m     \u001b[0mnames_to_saveables\u001b[0m \u001b[1;33m=\u001b[0m \u001b[0mop_list_to_dict\u001b[0m\u001b[1;33m(\u001b[0m\u001b[0mnames_to_saveables\u001b[0m\u001b[1;33m)\u001b[0m\u001b[1;33m\u001b[0m\u001b[1;33m\u001b[0m\u001b[0m\n\u001b[0m\u001b[0;32m    337\u001b[0m \u001b[1;33m\u001b[0m\u001b[0m\n\u001b[0;32m    338\u001b[0m   \u001b[0msaveables\u001b[0m \u001b[1;33m=\u001b[0m \u001b[1;33m[\u001b[0m\u001b[1;33m]\u001b[0m\u001b[1;33m\u001b[0m\u001b[1;33m\u001b[0m\u001b[0m\n",
      "\u001b[1;32md:\\anaconda3\\envs\\tf2\\lib\\site-packages\\tensorflow_core\\python\\training\\saving\\saveable_object_util.py\u001b[0m in \u001b[0;36mop_list_to_dict\u001b[1;34m(op_list, convert_variable_to_tensor)\u001b[0m\n\u001b[0;32m    291\u001b[0m         \u001b[1;32mif\u001b[0m \u001b[0mname\u001b[0m \u001b[1;32min\u001b[0m \u001b[0mnames_to_saveables\u001b[0m\u001b[1;33m:\u001b[0m\u001b[1;33m\u001b[0m\u001b[1;33m\u001b[0m\u001b[0m\n\u001b[0;32m    292\u001b[0m           raise ValueError(\"At least two variables have the same name: %s\" %\n\u001b[1;32m--> 293\u001b[1;33m                            name)\n\u001b[0m\u001b[0;32m    294\u001b[0m         \u001b[0mnames_to_saveables\u001b[0m\u001b[1;33m[\u001b[0m\u001b[0mname\u001b[0m\u001b[1;33m]\u001b[0m \u001b[1;33m=\u001b[0m \u001b[0mvar\u001b[0m\u001b[1;33m\u001b[0m\u001b[1;33m\u001b[0m\u001b[0m\n\u001b[0;32m    295\u001b[0m \u001b[1;33m\u001b[0m\u001b[0m\n",
      "\u001b[1;31mValueError\u001b[0m: At least two variables have the same name: extract_model/block/conv__mesh/W"
     ],
     "ename": "ValueError",
     "evalue": "At least two variables have the same name: extract_model/block/conv__mesh/W",
     "output_type": "error"
    }
   ],
   "source": [
    "if os.path.exists(model_path):\n",
    "    import shutil\n",
    "    \n",
    "    shutil.rmtree(model_path)\n",
    "else:\n",
    "    os.mkdir(model_path)\n",
    "\n",
    "\n",
    "def build_input_info(plc_dict):\n",
    "    tensor_infos = {'vertice': plc['vertice']}\n",
    "    adj_infos = {'adj_%d' % i: adj_plc for i, adj_plc in enumerate(plc['adjs'])}\n",
    "    perm_infos = {'perm_%d' % i: perm_plc for i, perm_plc in enumerate(plc['perms'])}\n",
    "    tensor_infos.update(adj_infos)\n",
    "    tensor_infos.update(perm_infos)\n",
    "    return tensor_infos\n",
    "\n",
    "\n",
    "# ordinary model\n",
    "tf.compat.v1.saved_model.simple_save(sess, model_path, build_input_info(plc), {'output_node': output})\n",
    "write_pb(input_saved_model_dir=model_path,\n",
    "         output_graph_filename=\"../output_graph.pb\")"
   ],
   "metadata": {
    "collapsed": false,
    "pycharm": {
     "name": "#%% freeze\n",
     "is_executing": false
    }
   }
  },
  {
   "cell_type": "code",
   "execution_count": null,
   "outputs": [],
   "source": [
    "data_gen = Data_Gen('F:/ProjectData/mesh_feature/Case_npz/back')\n",
    "rf = Rotate_feed(\n",
    "    rot_num=2,\n",
    "    rot_range=[np.pi / 18., np.pi / 18., np.pi / 18.],\n",
    "    angle_fixed=True,\n",
    "    data_gen=data_gen\n",
    ")\n",
    "epoch_end = False\n",
    "\n",
    "# while (not epoch_end):\n",
    "feed_numpy, epoch_end = rf.rotate_case()\n",
    "x = feed_numpy['vertice'] #[b,n,3]\n",
    "adjs = feed_numpy['adjs'] #[[n,K]]\n",
    "perms = feed_numpy['perms'] #[[n]]\n",
    "mask = feed_numpy['mask'] #[[n]]\n",
    "\n",
    "feed_dict = build_feed_dict(plc, x, adjs, perms)\n",
    "result = sess.run(output, feed_dict=feed_dict)\n",
    "output = np.reshape(result, [-1, FEAT_CAP, 3])\n",
    "result = output[:,mask,:]  #[1,f_num,3]\n",
    "print(result)\n",
    "sess.close()\n",
    "##########"
   ],
   "metadata": {
    "collapsed": false,
    "pycharm": {
     "name": "#%% infer\n",
     "is_executing": false
    }
   }
  },
  {
   "cell_type": "code",
   "execution_count": null,
   "outputs": [],
   "source": [
    "# Camera and scene configuration.\n",
    "config_dict = {\n",
    "    'material': {\n",
    "        'cls': 'PointsMaterial',\n",
    "        'size': 1,\n",
    "        # 'color':0x000fff\n",
    "    }\n",
    "}\n",
    "\n",
    "points_v = x\n",
    "points_f = result\n",
    "points = np.concatenate([points_v, points_f], axis=1)\n",
    "\n",
    "colors_v = np.ones_like(points_v) * [0, 0, 255]\n",
    "colors_f = np.ones_like(points_f) * [0, 255, 0]\n",
    "colors = np.concatenate([colors_v, colors_f], axis=1)\n",
    "    \n",
    "tf.compat.v1.disable_eager_execution()\n",
    "\n",
    "points_tensor = tf.compat.v1.placeholder(tf.float32, points.shape)\n",
    "colors_tensor = tf.compat.v1.placeholder(tf.int32, colors.shape)\n",
    "\n",
    "summary = mesh_summary.op(\n",
    "    'v_color_tensor',\n",
    "    vertices=points_tensor,\n",
    "    colors=colors_tensor,\n",
    "    config_dict=config_dict\n",
    ")\n",
    "\n",
    "# Create summary writer and session.\n",
    "writer = tf.compat.v1.summary.FileWriter(log_dir)\n",
    "sess = tf.compat.v1.Session()\n",
    "\n",
    "\n",
    "summaries = sess.run([summary], feed_dict={\n",
    "    points_tensor: points,\n",
    "    colors_tensor: colors,\n",
    "})\n",
    "# Save summaries.\n",
    "for summary in summaries:\n",
    "    writer.add_summary(summary)\n",
    "    \n"
   ],
   "metadata": {
    "collapsed": false,
    "pycharm": {
     "name": "#%% summary\n",
     "is_executing": false
    }
   }
  }
 ],
 "metadata": {
  "kernelspec": {
   "display_name": "Python 3",
   "language": "python",
   "name": "python3"
  },
  "language_info": {
   "codemirror_mode": {
    "name": "ipython",
    "version": 2
   },
   "file_extension": ".py",
   "mimetype": "text/x-python",
   "name": "python",
   "nbconvert_exporter": "python",
   "pygments_lexer": "ipython2",
   "version": "2.7.6"
  },
  "pycharm": {
   "stem_cell": {
    "cell_type": "raw",
    "source": [],
    "metadata": {
     "collapsed": false
    }
   }
  }
 },
 "nbformat": 4,
 "nbformat_minor": 0
}